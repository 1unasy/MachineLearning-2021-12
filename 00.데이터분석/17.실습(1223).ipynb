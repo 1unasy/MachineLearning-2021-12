{
 "cells": [
  {
   "cell_type": "code",
   "execution_count": 2,
   "metadata": {},
   "outputs": [],
   "source": [
    "import numpy as np\n",
    "import pandas as pd"
   ]
  },
  {
   "cell_type": "markdown",
   "metadata": {},
   "source": [
    "## < 자료 불러와서 데이터 프레임으로 만들기 >"
   ]
  },
  {
   "cell_type": "markdown",
   "metadata": {},
   "source": [
    "### 1. 서울시주민등록인구(구별)통계"
   ]
  },
  {
   "cell_type": "code",
   "execution_count": 133,
   "metadata": {},
   "outputs": [
    {
     "data": {
      "text/html": [
       "<div>\n",
       "<style scoped>\n",
       "    .dataframe tbody tr th:only-of-type {\n",
       "        vertical-align: middle;\n",
       "    }\n",
       "\n",
       "    .dataframe tbody tr th {\n",
       "        vertical-align: top;\n",
       "    }\n",
       "\n",
       "    .dataframe thead th {\n",
       "        text-align: right;\n",
       "    }\n",
       "</style>\n",
       "<table border=\"1\" class=\"dataframe\">\n",
       "  <thead>\n",
       "    <tr style=\"text-align: right;\">\n",
       "      <th></th>\n",
       "      <th>기간</th>\n",
       "      <th>자치구</th>\n",
       "      <th>세대</th>\n",
       "      <th>합계</th>\n",
       "      <th>합계.1</th>\n",
       "      <th>합계.2</th>\n",
       "      <th>한국인</th>\n",
       "      <th>한국인.1</th>\n",
       "      <th>한국인.2</th>\n",
       "      <th>등록외국인</th>\n",
       "      <th>등록외국인.1</th>\n",
       "      <th>등록외국인.2</th>\n",
       "      <th>세대당인구</th>\n",
       "      <th>65세이상고령자</th>\n",
       "    </tr>\n",
       "  </thead>\n",
       "  <tbody>\n",
       "    <tr>\n",
       "      <th>0</th>\n",
       "      <td>기간</td>\n",
       "      <td>자치구</td>\n",
       "      <td>세대</td>\n",
       "      <td>계</td>\n",
       "      <td>남자</td>\n",
       "      <td>여자</td>\n",
       "      <td>계</td>\n",
       "      <td>남자</td>\n",
       "      <td>여자</td>\n",
       "      <td>계</td>\n",
       "      <td>남자</td>\n",
       "      <td>여자</td>\n",
       "      <td>세대당인구</td>\n",
       "      <td>65세이상고령자</td>\n",
       "    </tr>\n",
       "    <tr>\n",
       "      <th>1</th>\n",
       "      <td>2021.2/4</td>\n",
       "      <td>합계</td>\n",
       "      <td>4,405,638</td>\n",
       "      <td>9,795,426</td>\n",
       "      <td>4,756,178</td>\n",
       "      <td>5,039,248</td>\n",
       "      <td>9,565,990</td>\n",
       "      <td>4,649,442</td>\n",
       "      <td>4,916,548</td>\n",
       "      <td>229,436</td>\n",
       "      <td>106,736</td>\n",
       "      <td>122,700</td>\n",
       "      <td>2.17</td>\n",
       "      <td>1,576,971</td>\n",
       "    </tr>\n",
       "    <tr>\n",
       "      <th>2</th>\n",
       "      <td>2021.2/4</td>\n",
       "      <td>종로구</td>\n",
       "      <td>73,525</td>\n",
       "      <td>155,106</td>\n",
       "      <td>75,009</td>\n",
       "      <td>80,097</td>\n",
       "      <td>146,029</td>\n",
       "      <td>70,985</td>\n",
       "      <td>75,044</td>\n",
       "      <td>9,077</td>\n",
       "      <td>4,024</td>\n",
       "      <td>5,053</td>\n",
       "      <td>1.99</td>\n",
       "      <td>27,605</td>\n",
       "    </tr>\n",
       "    <tr>\n",
       "      <th>3</th>\n",
       "      <td>2021.2/4</td>\n",
       "      <td>중구</td>\n",
       "      <td>62,897</td>\n",
       "      <td>132,259</td>\n",
       "      <td>64,526</td>\n",
       "      <td>67,733</td>\n",
       "      <td>123,016</td>\n",
       "      <td>60,019</td>\n",
       "      <td>62,997</td>\n",
       "      <td>9,243</td>\n",
       "      <td>4,507</td>\n",
       "      <td>4,736</td>\n",
       "      <td>1.96</td>\n",
       "      <td>23,980</td>\n",
       "    </tr>\n",
       "  </tbody>\n",
       "</table>\n",
       "</div>"
      ],
      "text/plain": [
       "         기간  자치구         세대         합계       합계.1       합계.2        한국인  \\\n",
       "0        기간  자치구         세대          계         남자         여자          계   \n",
       "1  2021.2/4   합계  4,405,638  9,795,426  4,756,178  5,039,248  9,565,990   \n",
       "2  2021.2/4  종로구     73,525    155,106     75,009     80,097    146,029   \n",
       "3  2021.2/4   중구     62,897    132,259     64,526     67,733    123,016   \n",
       "\n",
       "       한국인.1      한국인.2    등록외국인  등록외국인.1  등록외국인.2  세대당인구   65세이상고령자  \n",
       "0         남자         여자        계       남자       여자  세대당인구   65세이상고령자  \n",
       "1  4,649,442  4,916,548  229,436  106,736  122,700   2.17  1,576,971  \n",
       "2     70,985     75,044    9,077    4,024    5,053   1.99     27,605  \n",
       "3     60,019     62,997    9,243    4,507    4,736   1.96     23,980  "
      ]
     },
     "execution_count": 133,
     "metadata": {},
     "output_type": "execute_result"
    }
   ],
   "source": [
    "# 서울시주민등록인구(구별)통계.txt 자료\n",
    "pop = pd.read_csv('서울시주민등록인구(구별)통계.txt', skiprows=1,  sep='\\t')\n",
    "\n",
    "pop.head(4)"
   ]
  },
  {
   "cell_type": "markdown",
   "metadata": {},
   "source": [
    "### 2. 서울시CCTV설치운영현황"
   ]
  },
  {
   "cell_type": "code",
   "execution_count": 134,
   "metadata": {},
   "outputs": [
    {
     "data": {
      "text/html": [
       "<div>\n",
       "<style scoped>\n",
       "    .dataframe tbody tr th:only-of-type {\n",
       "        vertical-align: middle;\n",
       "    }\n",
       "\n",
       "    .dataframe tbody tr th {\n",
       "        vertical-align: top;\n",
       "    }\n",
       "\n",
       "    .dataframe thead th {\n",
       "        text-align: right;\n",
       "    }\n",
       "</style>\n",
       "<table border=\"1\" class=\"dataframe\">\n",
       "  <thead>\n",
       "    <tr style=\"text-align: right;\">\n",
       "      <th></th>\n",
       "      <th>구분</th>\n",
       "      <th>총계</th>\n",
       "      <th>2012년 이전</th>\n",
       "      <th>2012년</th>\n",
       "      <th>2013년</th>\n",
       "      <th>2014년</th>\n",
       "      <th>2015년</th>\n",
       "      <th>2016년</th>\n",
       "      <th>2017년</th>\n",
       "      <th>2018년</th>\n",
       "      <th>2019년</th>\n",
       "      <th>2020년</th>\n",
       "      <th>2021년</th>\n",
       "    </tr>\n",
       "  </thead>\n",
       "  <tbody>\n",
       "    <tr>\n",
       "      <th>0</th>\n",
       "      <td>계</td>\n",
       "      <td>77,032</td>\n",
       "      <td>7,667</td>\n",
       "      <td>2,200</td>\n",
       "      <td>3,491</td>\n",
       "      <td>4,439</td>\n",
       "      <td>6,582</td>\n",
       "      <td>8,129</td>\n",
       "      <td>9,947</td>\n",
       "      <td>9,876</td>\n",
       "      <td>11,961</td>\n",
       "      <td>11,132</td>\n",
       "      <td>1,608</td>\n",
       "    </tr>\n",
       "    <tr>\n",
       "      <th>1</th>\n",
       "      <td>종로구</td>\n",
       "      <td>1,772</td>\n",
       "      <td>813</td>\n",
       "      <td>0</td>\n",
       "      <td>0</td>\n",
       "      <td>210</td>\n",
       "      <td>150</td>\n",
       "      <td>1</td>\n",
       "      <td>261</td>\n",
       "      <td>85</td>\n",
       "      <td>9</td>\n",
       "      <td>200</td>\n",
       "      <td>43</td>\n",
       "    </tr>\n",
       "    <tr>\n",
       "      <th>2</th>\n",
       "      <td>중 구</td>\n",
       "      <td>2,333</td>\n",
       "      <td>16</td>\n",
       "      <td>114</td>\n",
       "      <td>87</td>\n",
       "      <td>77</td>\n",
       "      <td>236</td>\n",
       "      <td>240</td>\n",
       "      <td>372</td>\n",
       "      <td>386</td>\n",
       "      <td>155</td>\n",
       "      <td>361</td>\n",
       "      <td>289</td>\n",
       "    </tr>\n",
       "  </tbody>\n",
       "</table>\n",
       "</div>"
      ],
      "text/plain": [
       "    구분      총계 2012년 이전  2012년  2013년  2014년  2015년  2016년  2017년  2018년  \\\n",
       "0    계  77,032    7,667  2,200  3,491  4,439  6,582  8,129  9,947  9,876   \n",
       "1  종로구   1,772      813      0      0    210    150      1    261     85   \n",
       "2  중 구   2,333       16    114     87     77    236    240    372    386   \n",
       "\n",
       "    2019년   2020년  2021년  \n",
       "0  11,961  11,132  1,608  \n",
       "1       9     200     43  \n",
       "2     155     361    289  "
      ]
     },
     "execution_count": 134,
     "metadata": {},
     "output_type": "execute_result"
    }
   ],
   "source": [
    "# 서울시CCTV설치운영현황.csv 자료\n",
    "cctv = pd.read_csv('서울시CCTV설치운영현황(자치구)_년도별_210731기준.csv',\n",
    "                    skiprows=1, encoding='euc-kr')\n",
    "cctv.head(3)"
   ]
  },
  {
   "cell_type": "markdown",
   "metadata": {},
   "source": [
    "## < 데이터 프레임 조작 > "
   ]
  },
  {
   "cell_type": "markdown",
   "metadata": {},
   "source": [
    "### 1. 서울시주민등록인구"
   ]
  },
  {
   "cell_type": "markdown",
   "metadata": {},
   "source": [
    "#### - 컬럼조회"
   ]
  },
  {
   "cell_type": "code",
   "execution_count": 135,
   "metadata": {},
   "outputs": [
    {
     "data": {
      "text/plain": [
       "Index(['기간', '자치구', '세대', '합계', '합계.1', '합계.2', '한국인', '한국인.1', '한국인.2',\n",
       "       '등록외국인', '등록외국인.1', '등록외국인.2', '세대당인구', '65세이상고령자'],\n",
       "      dtype='object')"
      ]
     },
     "execution_count": 135,
     "metadata": {},
     "output_type": "execute_result"
    }
   ],
   "source": [
    "pop.columns\n",
    "# -> 필요한 컬럼 : 자치구 / 합계 / 등록외국인 / 65세이상고령자"
   ]
  },
  {
   "cell_type": "markdown",
   "metadata": {},
   "source": [
    "#### - 필요한 컬럼으로 구성된 데이터 프레임 만들기\n",
    "- 필요한 컬럼의 데이터만 추출\n",
    "- 데이터 정수화\n",
    "- 컬럼명 변화"
   ]
  },
  {
   "cell_type": "code",
   "execution_count": 136,
   "metadata": {},
   "outputs": [
    {
     "data": {
      "text/html": [
       "<div>\n",
       "<style scoped>\n",
       "    .dataframe tbody tr th:only-of-type {\n",
       "        vertical-align: middle;\n",
       "    }\n",
       "\n",
       "    .dataframe tbody tr th {\n",
       "        vertical-align: top;\n",
       "    }\n",
       "\n",
       "    .dataframe thead th {\n",
       "        text-align: right;\n",
       "    }\n",
       "</style>\n",
       "<table border=\"1\" class=\"dataframe\">\n",
       "  <thead>\n",
       "    <tr style=\"text-align: right;\">\n",
       "      <th></th>\n",
       "      <th>자치구</th>\n",
       "      <th>합계</th>\n",
       "      <th>등록외국인</th>\n",
       "      <th>65세이상고령자</th>\n",
       "    </tr>\n",
       "  </thead>\n",
       "  <tbody>\n",
       "    <tr>\n",
       "      <th>1</th>\n",
       "      <td>합계</td>\n",
       "      <td>9,795,426</td>\n",
       "      <td>229,436</td>\n",
       "      <td>1,576,971</td>\n",
       "    </tr>\n",
       "    <tr>\n",
       "      <th>2</th>\n",
       "      <td>종로구</td>\n",
       "      <td>155,106</td>\n",
       "      <td>9,077</td>\n",
       "      <td>27,605</td>\n",
       "    </tr>\n",
       "  </tbody>\n",
       "</table>\n",
       "</div>"
      ],
      "text/plain": [
       "   자치구         합계    등록외국인   65세이상고령자\n",
       "1   합계  9,795,426  229,436  1,576,971\n",
       "2  종로구    155,106    9,077     27,605"
      ]
     },
     "execution_count": 136,
     "metadata": {},
     "output_type": "execute_result"
    }
   ],
   "source": [
    "# 필요한 컬럼만으로 구성된 데이터 프레임 만들기\n",
    "# 0번 행인덱스 제외하기\n",
    "column_names = ['자치구', '합계', '등록외국인', '65세이상고령자']\n",
    "pop1 = pop[column_names].iloc[1:,:]\n",
    "pop1.head(2)"
   ]
  },
  {
   "cell_type": "code",
   "execution_count": 137,
   "metadata": {},
   "outputs": [
    {
     "data": {
      "text/html": [
       "<div>\n",
       "<style scoped>\n",
       "    .dataframe tbody tr th:only-of-type {\n",
       "        vertical-align: middle;\n",
       "    }\n",
       "\n",
       "    .dataframe tbody tr th {\n",
       "        vertical-align: top;\n",
       "    }\n",
       "\n",
       "    .dataframe thead th {\n",
       "        text-align: right;\n",
       "    }\n",
       "</style>\n",
       "<table border=\"1\" class=\"dataframe\">\n",
       "  <thead>\n",
       "    <tr style=\"text-align: right;\">\n",
       "      <th></th>\n",
       "      <th>자치구</th>\n",
       "      <th>합계</th>\n",
       "      <th>등록외국인</th>\n",
       "      <th>65세이상고령자</th>\n",
       "    </tr>\n",
       "  </thead>\n",
       "  <tbody>\n",
       "    <tr>\n",
       "      <th>1</th>\n",
       "      <td>합계</td>\n",
       "      <td>9795426</td>\n",
       "      <td>229436</td>\n",
       "      <td>1576971</td>\n",
       "    </tr>\n",
       "    <tr>\n",
       "      <th>2</th>\n",
       "      <td>종로구</td>\n",
       "      <td>155106</td>\n",
       "      <td>9077</td>\n",
       "      <td>27605</td>\n",
       "    </tr>\n",
       "  </tbody>\n",
       "</table>\n",
       "</div>"
      ],
      "text/plain": [
       "   자치구       합계   등록외국인  65세이상고령자\n",
       "1   합계  9795426  229436   1576971\n",
       "2  종로구   155106    9077     27605"
      ]
     },
     "execution_count": 137,
     "metadata": {},
     "output_type": "execute_result"
    }
   ],
   "source": [
    "# 정수화(int) 하기\n",
    "for column in pop1.columns[1:]:\n",
    "    pop1[column] = pop1[column].str.replace(\",\",\"\").astype(int)\n",
    "pop1.head(2)"
   ]
  },
  {
   "cell_type": "code",
   "execution_count": 138,
   "metadata": {},
   "outputs": [
    {
     "data": {
      "text/html": [
       "<div>\n",
       "<style scoped>\n",
       "    .dataframe tbody tr th:only-of-type {\n",
       "        vertical-align: middle;\n",
       "    }\n",
       "\n",
       "    .dataframe tbody tr th {\n",
       "        vertical-align: top;\n",
       "    }\n",
       "\n",
       "    .dataframe thead th {\n",
       "        text-align: right;\n",
       "    }\n",
       "</style>\n",
       "<table border=\"1\" class=\"dataframe\">\n",
       "  <thead>\n",
       "    <tr style=\"text-align: right;\">\n",
       "      <th></th>\n",
       "      <th>자치구</th>\n",
       "      <th>인구수</th>\n",
       "      <th>외국인</th>\n",
       "      <th>고령자</th>\n",
       "    </tr>\n",
       "  </thead>\n",
       "  <tbody>\n",
       "    <tr>\n",
       "      <th>1</th>\n",
       "      <td>합계</td>\n",
       "      <td>9795426</td>\n",
       "      <td>229436</td>\n",
       "      <td>1576971</td>\n",
       "    </tr>\n",
       "    <tr>\n",
       "      <th>2</th>\n",
       "      <td>종로구</td>\n",
       "      <td>155106</td>\n",
       "      <td>9077</td>\n",
       "      <td>27605</td>\n",
       "    </tr>\n",
       "    <tr>\n",
       "      <th>3</th>\n",
       "      <td>중구</td>\n",
       "      <td>132259</td>\n",
       "      <td>9243</td>\n",
       "      <td>23980</td>\n",
       "    </tr>\n",
       "    <tr>\n",
       "      <th>4</th>\n",
       "      <td>용산구</td>\n",
       "      <td>240665</td>\n",
       "      <td>14287</td>\n",
       "      <td>38884</td>\n",
       "    </tr>\n",
       "    <tr>\n",
       "      <th>5</th>\n",
       "      <td>성동구</td>\n",
       "      <td>295767</td>\n",
       "      <td>6605</td>\n",
       "      <td>45591</td>\n",
       "    </tr>\n",
       "  </tbody>\n",
       "</table>\n",
       "</div>"
      ],
      "text/plain": [
       "   자치구      인구수     외국인      고령자\n",
       "1   합계  9795426  229436  1576971\n",
       "2  종로구   155106    9077    27605\n",
       "3   중구   132259    9243    23980\n",
       "4  용산구   240665   14287    38884\n",
       "5  성동구   295767    6605    45591"
      ]
     },
     "execution_count": 138,
     "metadata": {},
     "output_type": "execute_result"
    }
   ],
   "source": [
    "# 컬럼명 바꾸기\n",
    "# 합계 -> 인구수\n",
    "# 등록외국인 -> 외국인\n",
    "# 65세이상고령자 -> 고령자\n",
    "pop1 = pop1.rename(columns={'합계':'인구수', '등록외국인':'외국인', '65세이상고령자':'고령자'})\n",
    "pop1.head()"
   ]
  },
  {
   "cell_type": "markdown",
   "metadata": {},
   "source": [
    "### 2. 서울시CCTV설치운영현황"
   ]
  },
  {
   "cell_type": "markdown",
   "metadata": {},
   "source": [
    "- 컬럼조회"
   ]
  },
  {
   "cell_type": "code",
   "execution_count": 46,
   "metadata": {},
   "outputs": [
    {
     "data": {
      "text/plain": [
       "Index(['구분', '총계', '2012년 이전', '2012년', '2013년', '2014년', '2015년', '2016년',\n",
       "       '2017년', '2018년', '2019년', '2020년', '2021년'],\n",
       "      dtype='object')"
      ]
     },
     "execution_count": 46,
     "metadata": {},
     "output_type": "execute_result"
    }
   ],
   "source": [
    "# 컬럼조회 -> # 필요한 컬럼 : 행인덱스 0 제외한 모든 데이터\n",
    "cctv.columns"
   ]
  },
  {
   "cell_type": "markdown",
   "metadata": {},
   "source": [
    "#### - 필요한 컬럼으로 구성된 데이터 프레임 만들기\n",
    "- 필요한 컬럼의 데이터만 추출\n",
    "- 데이터 정수화\n",
    "- 컬럼명 바꾸기\n",
    "- 중 구 -> 중구 로 바꾸기"
   ]
  },
  {
   "cell_type": "code",
   "execution_count": 21,
   "metadata": {},
   "outputs": [
    {
     "data": {
      "text/html": [
       "<div>\n",
       "<style scoped>\n",
       "    .dataframe tbody tr th:only-of-type {\n",
       "        vertical-align: middle;\n",
       "    }\n",
       "\n",
       "    .dataframe tbody tr th {\n",
       "        vertical-align: top;\n",
       "    }\n",
       "\n",
       "    .dataframe thead th {\n",
       "        text-align: right;\n",
       "    }\n",
       "</style>\n",
       "<table border=\"1\" class=\"dataframe\">\n",
       "  <thead>\n",
       "    <tr style=\"text-align: right;\">\n",
       "      <th></th>\n",
       "      <th>구분</th>\n",
       "      <th>총계</th>\n",
       "      <th>2012년 이전</th>\n",
       "      <th>2012년</th>\n",
       "      <th>2013년</th>\n",
       "      <th>2014년</th>\n",
       "      <th>2015년</th>\n",
       "      <th>2016년</th>\n",
       "      <th>2017년</th>\n",
       "      <th>2018년</th>\n",
       "      <th>2019년</th>\n",
       "      <th>2020년</th>\n",
       "      <th>2021년</th>\n",
       "    </tr>\n",
       "  </thead>\n",
       "  <tbody>\n",
       "    <tr>\n",
       "      <th>1</th>\n",
       "      <td>종로구</td>\n",
       "      <td>1,772</td>\n",
       "      <td>813</td>\n",
       "      <td>0</td>\n",
       "      <td>0</td>\n",
       "      <td>210</td>\n",
       "      <td>150</td>\n",
       "      <td>1</td>\n",
       "      <td>261</td>\n",
       "      <td>85</td>\n",
       "      <td>9</td>\n",
       "      <td>200</td>\n",
       "      <td>43</td>\n",
       "    </tr>\n",
       "    <tr>\n",
       "      <th>2</th>\n",
       "      <td>중 구</td>\n",
       "      <td>2,333</td>\n",
       "      <td>16</td>\n",
       "      <td>114</td>\n",
       "      <td>87</td>\n",
       "      <td>77</td>\n",
       "      <td>236</td>\n",
       "      <td>240</td>\n",
       "      <td>372</td>\n",
       "      <td>386</td>\n",
       "      <td>155</td>\n",
       "      <td>361</td>\n",
       "      <td>289</td>\n",
       "    </tr>\n",
       "    <tr>\n",
       "      <th>3</th>\n",
       "      <td>용산구</td>\n",
       "      <td>2,383</td>\n",
       "      <td>34</td>\n",
       "      <td>71</td>\n",
       "      <td>234</td>\n",
       "      <td>125</td>\n",
       "      <td>221</td>\n",
       "      <td>298</td>\n",
       "      <td>351</td>\n",
       "      <td>125</td>\n",
       "      <td>307</td>\n",
       "      <td>617</td>\n",
       "      <td>0</td>\n",
       "    </tr>\n",
       "    <tr>\n",
       "      <th>4</th>\n",
       "      <td>성동구</td>\n",
       "      <td>3,602</td>\n",
       "      <td>448</td>\n",
       "      <td>125</td>\n",
       "      <td>212</td>\n",
       "      <td>105</td>\n",
       "      <td>339</td>\n",
       "      <td>310</td>\n",
       "      <td>874</td>\n",
       "      <td>390</td>\n",
       "      <td>262</td>\n",
       "      <td>461</td>\n",
       "      <td>76</td>\n",
       "    </tr>\n",
       "    <tr>\n",
       "      <th>5</th>\n",
       "      <td>광진구</td>\n",
       "      <td>2,588</td>\n",
       "      <td>35</td>\n",
       "      <td>57</td>\n",
       "      <td>100</td>\n",
       "      <td>187</td>\n",
       "      <td>98</td>\n",
       "      <td>52</td>\n",
       "      <td>675</td>\n",
       "      <td>465</td>\n",
       "      <td>712</td>\n",
       "      <td>175</td>\n",
       "      <td>32</td>\n",
       "    </tr>\n",
       "  </tbody>\n",
       "</table>\n",
       "</div>"
      ],
      "text/plain": [
       "    구분     총계 2012년 이전 2012년 2013년 2014년 2015년 2016년 2017년 2018년 2019년 2020년  \\\n",
       "1  종로구  1,772      813     0     0   210   150     1   261    85     9   200   \n",
       "2  중 구  2,333       16   114    87    77   236   240   372   386   155   361   \n",
       "3  용산구  2,383       34    71   234   125   221   298   351   125   307   617   \n",
       "4  성동구  3,602      448   125   212   105   339   310   874   390   262   461   \n",
       "5  광진구  2,588       35    57   100   187    98    52   675   465   712   175   \n",
       "\n",
       "  2021년  \n",
       "1    43  \n",
       "2   289  \n",
       "3     0  \n",
       "4    76  \n",
       "5    32  "
      ]
     },
     "execution_count": 21,
     "metadata": {},
     "output_type": "execute_result"
    }
   ],
   "source": [
    "# 0번 행인덱스 제외\n",
    "cctv1 = cctv.iloc[1:,:]\n",
    "cctv1.head()"
   ]
  },
  {
   "cell_type": "code",
   "execution_count": 47,
   "metadata": {},
   "outputs": [
    {
     "data": {
      "text/html": [
       "<div>\n",
       "<style scoped>\n",
       "    .dataframe tbody tr th:only-of-type {\n",
       "        vertical-align: middle;\n",
       "    }\n",
       "\n",
       "    .dataframe tbody tr th {\n",
       "        vertical-align: top;\n",
       "    }\n",
       "\n",
       "    .dataframe thead th {\n",
       "        text-align: right;\n",
       "    }\n",
       "</style>\n",
       "<table border=\"1\" class=\"dataframe\">\n",
       "  <thead>\n",
       "    <tr style=\"text-align: right;\">\n",
       "      <th></th>\n",
       "      <th>구분</th>\n",
       "      <th>총계</th>\n",
       "      <th>2012년 이전</th>\n",
       "      <th>2012년</th>\n",
       "      <th>2013년</th>\n",
       "      <th>2014년</th>\n",
       "      <th>2015년</th>\n",
       "      <th>2016년</th>\n",
       "      <th>2017년</th>\n",
       "      <th>2018년</th>\n",
       "      <th>2019년</th>\n",
       "      <th>2020년</th>\n",
       "      <th>2021년</th>\n",
       "    </tr>\n",
       "  </thead>\n",
       "  <tbody>\n",
       "    <tr>\n",
       "      <th>1</th>\n",
       "      <td>종로구</td>\n",
       "      <td>1772</td>\n",
       "      <td>813</td>\n",
       "      <td>0</td>\n",
       "      <td>0</td>\n",
       "      <td>210</td>\n",
       "      <td>150</td>\n",
       "      <td>1</td>\n",
       "      <td>261</td>\n",
       "      <td>85</td>\n",
       "      <td>9</td>\n",
       "      <td>200</td>\n",
       "      <td>43</td>\n",
       "    </tr>\n",
       "    <tr>\n",
       "      <th>2</th>\n",
       "      <td>중 구</td>\n",
       "      <td>2333</td>\n",
       "      <td>16</td>\n",
       "      <td>114</td>\n",
       "      <td>87</td>\n",
       "      <td>77</td>\n",
       "      <td>236</td>\n",
       "      <td>240</td>\n",
       "      <td>372</td>\n",
       "      <td>386</td>\n",
       "      <td>155</td>\n",
       "      <td>361</td>\n",
       "      <td>289</td>\n",
       "    </tr>\n",
       "  </tbody>\n",
       "</table>\n",
       "</div>"
      ],
      "text/plain": [
       "    구분    총계  2012년 이전  2012년  2013년  2014년  2015년  2016년  2017년  2018년  \\\n",
       "1  종로구  1772       813      0      0    210    150      1    261     85   \n",
       "2  중 구  2333        16    114     87     77    236    240    372    386   \n",
       "\n",
       "   2019년  2020년  2021년  \n",
       "1      9    200     43  \n",
       "2    155    361    289  "
      ]
     },
     "execution_count": 47,
     "metadata": {},
     "output_type": "execute_result"
    }
   ],
   "source": [
    "# 정수화(int) 하기\n",
    "for column in cctv1.columns[1:]:\n",
    "    cctv1[column] = cctv1[column].str.replace(\",\", \"\").astype(int)\n",
    "cctv1.head(2)"
   ]
  },
  {
   "cell_type": "code",
   "execution_count": 160,
   "metadata": {},
   "outputs": [
    {
     "data": {
      "text/html": [
       "<div>\n",
       "<style scoped>\n",
       "    .dataframe tbody tr th:only-of-type {\n",
       "        vertical-align: middle;\n",
       "    }\n",
       "\n",
       "    .dataframe tbody tr th {\n",
       "        vertical-align: top;\n",
       "    }\n",
       "\n",
       "    .dataframe thead th {\n",
       "        text-align: right;\n",
       "    }\n",
       "</style>\n",
       "<table border=\"1\" class=\"dataframe\">\n",
       "  <thead>\n",
       "    <tr style=\"text-align: right;\">\n",
       "      <th></th>\n",
       "      <th>자치구</th>\n",
       "      <th>CCTV댓수</th>\n",
       "      <th>2012년 이전</th>\n",
       "      <th>2012년</th>\n",
       "      <th>2013년</th>\n",
       "      <th>2014년</th>\n",
       "      <th>2015년</th>\n",
       "      <th>2016년</th>\n",
       "      <th>2017년</th>\n",
       "      <th>2018년</th>\n",
       "      <th>2019년</th>\n",
       "      <th>2020년</th>\n",
       "      <th>2021년</th>\n",
       "      <th>최근증가율</th>\n",
       "    </tr>\n",
       "  </thead>\n",
       "  <tbody>\n",
       "    <tr>\n",
       "      <th>1</th>\n",
       "      <td>종로구</td>\n",
       "      <td>1772</td>\n",
       "      <td>813</td>\n",
       "      <td>0</td>\n",
       "      <td>0</td>\n",
       "      <td>210</td>\n",
       "      <td>150</td>\n",
       "      <td>1</td>\n",
       "      <td>261</td>\n",
       "      <td>85</td>\n",
       "      <td>9</td>\n",
       "      <td>200</td>\n",
       "      <td>43</td>\n",
       "      <td>20.5</td>\n",
       "    </tr>\n",
       "    <tr>\n",
       "      <th>2</th>\n",
       "      <td>중 구</td>\n",
       "      <td>2333</td>\n",
       "      <td>16</td>\n",
       "      <td>114</td>\n",
       "      <td>87</td>\n",
       "      <td>77</td>\n",
       "      <td>236</td>\n",
       "      <td>240</td>\n",
       "      <td>372</td>\n",
       "      <td>386</td>\n",
       "      <td>155</td>\n",
       "      <td>361</td>\n",
       "      <td>289</td>\n",
       "      <td>79.0</td>\n",
       "    </tr>\n",
       "    <tr>\n",
       "      <th>3</th>\n",
       "      <td>용산구</td>\n",
       "      <td>2383</td>\n",
       "      <td>34</td>\n",
       "      <td>71</td>\n",
       "      <td>234</td>\n",
       "      <td>125</td>\n",
       "      <td>221</td>\n",
       "      <td>298</td>\n",
       "      <td>351</td>\n",
       "      <td>125</td>\n",
       "      <td>307</td>\n",
       "      <td>617</td>\n",
       "      <td>0</td>\n",
       "      <td>78.6</td>\n",
       "    </tr>\n",
       "  </tbody>\n",
       "</table>\n",
       "</div>"
      ],
      "text/plain": [
       "   자치구  CCTV댓수  2012년 이전  2012년  2013년  2014년  2015년  2016년  2017년  2018년  \\\n",
       "1  종로구    1772       813      0      0    210    150      1    261     85   \n",
       "2  중 구    2333        16    114     87     77    236    240    372    386   \n",
       "3  용산구    2383        34     71    234    125    221    298    351    125   \n",
       "\n",
       "   2019년  2020년  2021년  최근증가율  \n",
       "1      9    200     43   20.5  \n",
       "2    155    361    289   79.0  \n",
       "3    307    617      0   78.6  "
      ]
     },
     "execution_count": 160,
     "metadata": {},
     "output_type": "execute_result"
    }
   ],
   "source": [
    "# 컬럼명 바꾸기\n",
    "# 구분 -> 자치구\n",
    "cctv1 = cctv1.rename(columns={'구분':'자치구', '총계': 'CCTV댓수'})\n",
    "cctv1.head(3)"
   ]
  },
  {
   "cell_type": "code",
   "execution_count": 192,
   "metadata": {},
   "outputs": [],
   "source": [
    "# 중 구 -> 중구 로 바꾸기\n",
    "cctv1.iloc[1, 0] = '중구'"
   ]
  },
  {
   "cell_type": "markdown",
   "metadata": {},
   "source": [
    "## < 조작한 데이터 프레임 가져와서 필요한 데이터 구성하기 >"
   ]
  },
  {
   "cell_type": "markdown",
   "metadata": {},
   "source": [
    "### 1. 서울시주민등록인구"
   ]
  },
  {
   "cell_type": "code",
   "execution_count": 161,
   "metadata": {},
   "outputs": [
    {
     "data": {
      "text/html": [
       "<div>\n",
       "<style scoped>\n",
       "    .dataframe tbody tr th:only-of-type {\n",
       "        vertical-align: middle;\n",
       "    }\n",
       "\n",
       "    .dataframe tbody tr th {\n",
       "        vertical-align: top;\n",
       "    }\n",
       "\n",
       "    .dataframe thead th {\n",
       "        text-align: right;\n",
       "    }\n",
       "</style>\n",
       "<table border=\"1\" class=\"dataframe\">\n",
       "  <thead>\n",
       "    <tr style=\"text-align: right;\">\n",
       "      <th></th>\n",
       "      <th>자치구</th>\n",
       "      <th>인구수</th>\n",
       "      <th>외국인</th>\n",
       "      <th>고령자</th>\n",
       "    </tr>\n",
       "  </thead>\n",
       "  <tbody>\n",
       "    <tr>\n",
       "      <th>1</th>\n",
       "      <td>합계</td>\n",
       "      <td>9795426</td>\n",
       "      <td>229436</td>\n",
       "      <td>1576971</td>\n",
       "    </tr>\n",
       "    <tr>\n",
       "      <th>2</th>\n",
       "      <td>종로구</td>\n",
       "      <td>155106</td>\n",
       "      <td>9077</td>\n",
       "      <td>27605</td>\n",
       "    </tr>\n",
       "    <tr>\n",
       "      <th>3</th>\n",
       "      <td>중구</td>\n",
       "      <td>132259</td>\n",
       "      <td>9243</td>\n",
       "      <td>23980</td>\n",
       "    </tr>\n",
       "  </tbody>\n",
       "</table>\n",
       "</div>"
      ],
      "text/plain": [
       "   자치구      인구수     외국인      고령자\n",
       "1   합계  9795426  229436  1576971\n",
       "2  종로구   155106    9077    27605\n",
       "3   중구   132259    9243    23980"
      ]
     },
     "execution_count": 161,
     "metadata": {},
     "output_type": "execute_result"
    }
   ],
   "source": [
    "pop1.head(3)"
   ]
  },
  {
   "cell_type": "markdown",
   "metadata": {},
   "source": [
    "#### - 외국인비율(%)\n",
    "- 구별 외국인 / 구별 인구수"
   ]
  },
  {
   "cell_type": "code",
   "execution_count": 162,
   "metadata": {},
   "outputs": [
    {
     "data": {
      "text/plain": [
       "2    5.9\n",
       "3    7.0\n",
       "4    5.9\n",
       "5    2.2\n",
       "6    3.6\n",
       "dtype: float64"
      ]
     },
     "execution_count": 162,
     "metadata": {},
     "output_type": "execute_result"
    }
   ],
   "source": [
    "# 외국인비율(%)\n",
    "alien_rate = ((pop1.loc[2:, '외국인'] / pop1.loc[2:, '인구수']) * 100).round(1)\n",
    "alien_rate.head() "
   ]
  },
  {
   "cell_type": "markdown",
   "metadata": {},
   "source": [
    "#### - 고령자비율(%)\n",
    "- 구별 고령자 / (합계) 고령자 "
   ]
  },
  {
   "cell_type": "code",
   "execution_count": 163,
   "metadata": {},
   "outputs": [
    {
     "data": {
      "text/plain": [
       "2    1.8\n",
       "3    1.5\n",
       "4    2.5\n",
       "5    2.9\n",
       "6    3.2\n",
       "Name: 고령자, dtype: float64"
      ]
     },
     "execution_count": 163,
     "metadata": {},
     "output_type": "execute_result"
    }
   ],
   "source": [
    "# 고령자비율(%)\n",
    "senior_rate = ((pop1.loc[2:, '고령자'] / pop1.loc[1, '고령자']) * 100).round(1)\n",
    "senior_rate.head()"
   ]
  },
  {
   "cell_type": "markdown",
   "metadata": {},
   "source": [
    "#### - 외국인비율(%) / 고령자비율(%) 데이터 프레임에 새로운 컬럼으로 추가하기"
   ]
  },
  {
   "cell_type": "code",
   "execution_count": 164,
   "metadata": {},
   "outputs": [],
   "source": [
    "# 외국인비율(%) 데이터 프레임에 새로운 컬럼으로 추가하기\n",
    "pop1['외국인비율(%)'] = alien_rate"
   ]
  },
  {
   "cell_type": "code",
   "execution_count": 165,
   "metadata": {},
   "outputs": [],
   "source": [
    "# 고령자비율(%) 데이터 프레임에 새로운 컬럼으로 추가하기\n",
    "pop1['고령자비율(%)'] = senior_rate"
   ]
  },
  {
   "cell_type": "code",
   "execution_count": 166,
   "metadata": {},
   "outputs": [
    {
     "data": {
      "text/html": [
       "<div>\n",
       "<style scoped>\n",
       "    .dataframe tbody tr th:only-of-type {\n",
       "        vertical-align: middle;\n",
       "    }\n",
       "\n",
       "    .dataframe tbody tr th {\n",
       "        vertical-align: top;\n",
       "    }\n",
       "\n",
       "    .dataframe thead th {\n",
       "        text-align: right;\n",
       "    }\n",
       "</style>\n",
       "<table border=\"1\" class=\"dataframe\">\n",
       "  <thead>\n",
       "    <tr style=\"text-align: right;\">\n",
       "      <th></th>\n",
       "      <th>자치구</th>\n",
       "      <th>인구수</th>\n",
       "      <th>외국인</th>\n",
       "      <th>고령자</th>\n",
       "      <th>외국인비율(%)</th>\n",
       "      <th>고령자비율(%)</th>\n",
       "    </tr>\n",
       "  </thead>\n",
       "  <tbody>\n",
       "    <tr>\n",
       "      <th>1</th>\n",
       "      <td>합계</td>\n",
       "      <td>9795426</td>\n",
       "      <td>229436</td>\n",
       "      <td>1576971</td>\n",
       "      <td>NaN</td>\n",
       "      <td>NaN</td>\n",
       "    </tr>\n",
       "    <tr>\n",
       "      <th>2</th>\n",
       "      <td>종로구</td>\n",
       "      <td>155106</td>\n",
       "      <td>9077</td>\n",
       "      <td>27605</td>\n",
       "      <td>5.9</td>\n",
       "      <td>1.8</td>\n",
       "    </tr>\n",
       "    <tr>\n",
       "      <th>3</th>\n",
       "      <td>중구</td>\n",
       "      <td>132259</td>\n",
       "      <td>9243</td>\n",
       "      <td>23980</td>\n",
       "      <td>7.0</td>\n",
       "      <td>1.5</td>\n",
       "    </tr>\n",
       "  </tbody>\n",
       "</table>\n",
       "</div>"
      ],
      "text/plain": [
       "   자치구      인구수     외국인      고령자  외국인비율(%)  고령자비율(%)\n",
       "1   합계  9795426  229436  1576971       NaN       NaN\n",
       "2  종로구   155106    9077    27605       5.9       1.8\n",
       "3   중구   132259    9243    23980       7.0       1.5"
      ]
     },
     "execution_count": 166,
     "metadata": {},
     "output_type": "execute_result"
    }
   ],
   "source": [
    "pop1.head(3)"
   ]
  },
  {
   "cell_type": "markdown",
   "metadata": {},
   "source": [
    "### 2. 서울시CCTV설치운영현황"
   ]
  },
  {
   "cell_type": "code",
   "execution_count": 194,
   "metadata": {},
   "outputs": [
    {
     "data": {
      "text/html": [
       "<div>\n",
       "<style scoped>\n",
       "    .dataframe tbody tr th:only-of-type {\n",
       "        vertical-align: middle;\n",
       "    }\n",
       "\n",
       "    .dataframe tbody tr th {\n",
       "        vertical-align: top;\n",
       "    }\n",
       "\n",
       "    .dataframe thead th {\n",
       "        text-align: right;\n",
       "    }\n",
       "</style>\n",
       "<table border=\"1\" class=\"dataframe\">\n",
       "  <thead>\n",
       "    <tr style=\"text-align: right;\">\n",
       "      <th></th>\n",
       "      <th>자치구</th>\n",
       "      <th>CCTV댓수</th>\n",
       "      <th>2012년 이전</th>\n",
       "      <th>2012년</th>\n",
       "      <th>2013년</th>\n",
       "      <th>2014년</th>\n",
       "      <th>2015년</th>\n",
       "      <th>2016년</th>\n",
       "      <th>2017년</th>\n",
       "      <th>2018년</th>\n",
       "      <th>2019년</th>\n",
       "      <th>2020년</th>\n",
       "      <th>2021년</th>\n",
       "      <th>최근증가율</th>\n",
       "    </tr>\n",
       "  </thead>\n",
       "  <tbody>\n",
       "    <tr>\n",
       "      <th>1</th>\n",
       "      <td>종로구</td>\n",
       "      <td>1772</td>\n",
       "      <td>813</td>\n",
       "      <td>0</td>\n",
       "      <td>0</td>\n",
       "      <td>210</td>\n",
       "      <td>150</td>\n",
       "      <td>1</td>\n",
       "      <td>261</td>\n",
       "      <td>85</td>\n",
       "      <td>9</td>\n",
       "      <td>200</td>\n",
       "      <td>43</td>\n",
       "      <td>20.5</td>\n",
       "    </tr>\n",
       "    <tr>\n",
       "      <th>2</th>\n",
       "      <td>중구</td>\n",
       "      <td>2333</td>\n",
       "      <td>16</td>\n",
       "      <td>114</td>\n",
       "      <td>87</td>\n",
       "      <td>77</td>\n",
       "      <td>236</td>\n",
       "      <td>240</td>\n",
       "      <td>372</td>\n",
       "      <td>386</td>\n",
       "      <td>155</td>\n",
       "      <td>361</td>\n",
       "      <td>289</td>\n",
       "      <td>79.0</td>\n",
       "    </tr>\n",
       "    <tr>\n",
       "      <th>3</th>\n",
       "      <td>용산구</td>\n",
       "      <td>2383</td>\n",
       "      <td>34</td>\n",
       "      <td>71</td>\n",
       "      <td>234</td>\n",
       "      <td>125</td>\n",
       "      <td>221</td>\n",
       "      <td>298</td>\n",
       "      <td>351</td>\n",
       "      <td>125</td>\n",
       "      <td>307</td>\n",
       "      <td>617</td>\n",
       "      <td>0</td>\n",
       "      <td>78.6</td>\n",
       "    </tr>\n",
       "  </tbody>\n",
       "</table>\n",
       "</div>"
      ],
      "text/plain": [
       "   자치구  CCTV댓수  2012년 이전  2012년  2013년  2014년  2015년  2016년  2017년  2018년  \\\n",
       "1  종로구    1772       813      0      0    210    150      1    261     85   \n",
       "2   중구    2333        16    114     87     77    236    240    372    386   \n",
       "3  용산구    2383        34     71    234    125    221    298    351    125   \n",
       "\n",
       "   2019년  2020년  2021년  최근증가율  \n",
       "1      9    200     43   20.5  \n",
       "2    155    361    289   79.0  \n",
       "3    307    617      0   78.6  "
      ]
     },
     "execution_count": 194,
     "metadata": {},
     "output_type": "execute_result"
    }
   ],
   "source": [
    "cctv1.head(3)"
   ]
  },
  {
   "cell_type": "markdown",
   "metadata": {},
   "source": [
    "##### - 최근증가율\n",
    "- ((2018 + 2019 + 2020) / (2012년 이전~2017)) * 100"
   ]
  },
  {
   "cell_type": "code",
   "execution_count": 195,
   "metadata": {},
   "outputs": [
    {
     "data": {
      "text/plain": [
       "1    20.5\n",
       "2    79.0\n",
       "3    78.6\n",
       "dtype: float64"
      ]
     },
     "execution_count": 195,
     "metadata": {},
     "output_type": "execute_result"
    }
   ],
   "source": [
    "# 최근증가율\n",
    "recent_incre_rate = ((cctv1.iloc[:,9:12].sum(axis=1) / cctv1.iloc[:,2:9].sum(axis=1)) * 100).round(1) \n",
    "recent_incre_rate.head(3)"
   ]
  },
  {
   "cell_type": "code",
   "execution_count": 196,
   "metadata": {},
   "outputs": [
    {
     "data": {
      "text/html": [
       "<div>\n",
       "<style scoped>\n",
       "    .dataframe tbody tr th:only-of-type {\n",
       "        vertical-align: middle;\n",
       "    }\n",
       "\n",
       "    .dataframe tbody tr th {\n",
       "        vertical-align: top;\n",
       "    }\n",
       "\n",
       "    .dataframe thead th {\n",
       "        text-align: right;\n",
       "    }\n",
       "</style>\n",
       "<table border=\"1\" class=\"dataframe\">\n",
       "  <thead>\n",
       "    <tr style=\"text-align: right;\">\n",
       "      <th></th>\n",
       "      <th>자치구</th>\n",
       "      <th>CCTV댓수</th>\n",
       "      <th>2012년 이전</th>\n",
       "      <th>2012년</th>\n",
       "      <th>2013년</th>\n",
       "      <th>2014년</th>\n",
       "      <th>2015년</th>\n",
       "      <th>2016년</th>\n",
       "      <th>2017년</th>\n",
       "      <th>2018년</th>\n",
       "      <th>2019년</th>\n",
       "      <th>2020년</th>\n",
       "      <th>2021년</th>\n",
       "      <th>최근증가율</th>\n",
       "    </tr>\n",
       "  </thead>\n",
       "  <tbody>\n",
       "    <tr>\n",
       "      <th>1</th>\n",
       "      <td>종로구</td>\n",
       "      <td>1772</td>\n",
       "      <td>813</td>\n",
       "      <td>0</td>\n",
       "      <td>0</td>\n",
       "      <td>210</td>\n",
       "      <td>150</td>\n",
       "      <td>1</td>\n",
       "      <td>261</td>\n",
       "      <td>85</td>\n",
       "      <td>9</td>\n",
       "      <td>200</td>\n",
       "      <td>43</td>\n",
       "      <td>20.5</td>\n",
       "    </tr>\n",
       "    <tr>\n",
       "      <th>2</th>\n",
       "      <td>중구</td>\n",
       "      <td>2333</td>\n",
       "      <td>16</td>\n",
       "      <td>114</td>\n",
       "      <td>87</td>\n",
       "      <td>77</td>\n",
       "      <td>236</td>\n",
       "      <td>240</td>\n",
       "      <td>372</td>\n",
       "      <td>386</td>\n",
       "      <td>155</td>\n",
       "      <td>361</td>\n",
       "      <td>289</td>\n",
       "      <td>79.0</td>\n",
       "    </tr>\n",
       "    <tr>\n",
       "      <th>3</th>\n",
       "      <td>용산구</td>\n",
       "      <td>2383</td>\n",
       "      <td>34</td>\n",
       "      <td>71</td>\n",
       "      <td>234</td>\n",
       "      <td>125</td>\n",
       "      <td>221</td>\n",
       "      <td>298</td>\n",
       "      <td>351</td>\n",
       "      <td>125</td>\n",
       "      <td>307</td>\n",
       "      <td>617</td>\n",
       "      <td>0</td>\n",
       "      <td>78.6</td>\n",
       "    </tr>\n",
       "  </tbody>\n",
       "</table>\n",
       "</div>"
      ],
      "text/plain": [
       "   자치구  CCTV댓수  2012년 이전  2012년  2013년  2014년  2015년  2016년  2017년  2018년  \\\n",
       "1  종로구    1772       813      0      0    210    150      1    261     85   \n",
       "2   중구    2333        16    114     87     77    236    240    372    386   \n",
       "3  용산구    2383        34     71    234    125    221    298    351    125   \n",
       "\n",
       "   2019년  2020년  2021년  최근증가율  \n",
       "1      9    200     43   20.5  \n",
       "2    155    361    289   79.0  \n",
       "3    307    617      0   78.6  "
      ]
     },
     "execution_count": 196,
     "metadata": {},
     "output_type": "execute_result"
    }
   ],
   "source": [
    "cctv1['최근증가율'] = recent_incre_rate\n",
    "cctv1.head(3)"
   ]
  },
  {
   "cell_type": "code",
   "execution_count": 197,
   "metadata": {},
   "outputs": [
    {
     "data": {
      "text/html": [
       "<div>\n",
       "<style scoped>\n",
       "    .dataframe tbody tr th:only-of-type {\n",
       "        vertical-align: middle;\n",
       "    }\n",
       "\n",
       "    .dataframe tbody tr th {\n",
       "        vertical-align: top;\n",
       "    }\n",
       "\n",
       "    .dataframe thead th {\n",
       "        text-align: right;\n",
       "    }\n",
       "</style>\n",
       "<table border=\"1\" class=\"dataframe\">\n",
       "  <thead>\n",
       "    <tr style=\"text-align: right;\">\n",
       "      <th></th>\n",
       "      <th>자치구</th>\n",
       "      <th>CCTV댓수</th>\n",
       "      <th>최근증가율</th>\n",
       "    </tr>\n",
       "  </thead>\n",
       "  <tbody>\n",
       "    <tr>\n",
       "      <th>1</th>\n",
       "      <td>종로구</td>\n",
       "      <td>1772</td>\n",
       "      <td>20.5</td>\n",
       "    </tr>\n",
       "    <tr>\n",
       "      <th>2</th>\n",
       "      <td>중구</td>\n",
       "      <td>2333</td>\n",
       "      <td>79.0</td>\n",
       "    </tr>\n",
       "  </tbody>\n",
       "</table>\n",
       "</div>"
      ],
      "text/plain": [
       "   자치구  CCTV댓수  최근증가율\n",
       "1  종로구    1772   20.5\n",
       "2   중구    2333   79.0"
      ]
     },
     "execution_count": 197,
     "metadata": {},
     "output_type": "execute_result"
    }
   ],
   "source": [
    "column_names = ['자치구', 'CCTV댓수', '최근증가율']\n",
    "cctv2 = cctv1[column_names]\n",
    "cctv2.head(2)"
   ]
  },
  {
   "cell_type": "markdown",
   "metadata": {},
   "source": [
    "## < 데이터 프레임 합성 >"
   ]
  },
  {
   "cell_type": "code",
   "execution_count": 198,
   "metadata": {},
   "outputs": [
    {
     "data": {
      "text/html": [
       "<div>\n",
       "<style scoped>\n",
       "    .dataframe tbody tr th:only-of-type {\n",
       "        vertical-align: middle;\n",
       "    }\n",
       "\n",
       "    .dataframe tbody tr th {\n",
       "        vertical-align: top;\n",
       "    }\n",
       "\n",
       "    .dataframe thead th {\n",
       "        text-align: right;\n",
       "    }\n",
       "</style>\n",
       "<table border=\"1\" class=\"dataframe\">\n",
       "  <thead>\n",
       "    <tr style=\"text-align: right;\">\n",
       "      <th></th>\n",
       "      <th>자치구</th>\n",
       "      <th>CCTV댓수</th>\n",
       "      <th>최근증가율</th>\n",
       "      <th>인구수</th>\n",
       "      <th>외국인</th>\n",
       "      <th>고령자</th>\n",
       "      <th>외국인비율(%)</th>\n",
       "      <th>고령자비율(%)</th>\n",
       "    </tr>\n",
       "  </thead>\n",
       "  <tbody>\n",
       "    <tr>\n",
       "      <th>0</th>\n",
       "      <td>종로구</td>\n",
       "      <td>1772</td>\n",
       "      <td>20.5</td>\n",
       "      <td>155106</td>\n",
       "      <td>9077</td>\n",
       "      <td>27605</td>\n",
       "      <td>5.9</td>\n",
       "      <td>1.8</td>\n",
       "    </tr>\n",
       "    <tr>\n",
       "      <th>1</th>\n",
       "      <td>중구</td>\n",
       "      <td>2333</td>\n",
       "      <td>79.0</td>\n",
       "      <td>132259</td>\n",
       "      <td>9243</td>\n",
       "      <td>23980</td>\n",
       "      <td>7.0</td>\n",
       "      <td>1.5</td>\n",
       "    </tr>\n",
       "    <tr>\n",
       "      <th>2</th>\n",
       "      <td>용산구</td>\n",
       "      <td>2383</td>\n",
       "      <td>78.6</td>\n",
       "      <td>240665</td>\n",
       "      <td>14287</td>\n",
       "      <td>38884</td>\n",
       "      <td>5.9</td>\n",
       "      <td>2.5</td>\n",
       "    </tr>\n",
       "    <tr>\n",
       "      <th>3</th>\n",
       "      <td>성동구</td>\n",
       "      <td>3602</td>\n",
       "      <td>46.1</td>\n",
       "      <td>295767</td>\n",
       "      <td>6605</td>\n",
       "      <td>45591</td>\n",
       "      <td>2.2</td>\n",
       "      <td>2.9</td>\n",
       "    </tr>\n",
       "    <tr>\n",
       "      <th>4</th>\n",
       "      <td>광진구</td>\n",
       "      <td>2588</td>\n",
       "      <td>112.3</td>\n",
       "      <td>355306</td>\n",
       "      <td>12825</td>\n",
       "      <td>50815</td>\n",
       "      <td>3.6</td>\n",
       "      <td>3.2</td>\n",
       "    </tr>\n",
       "  </tbody>\n",
       "</table>\n",
       "</div>"
      ],
      "text/plain": [
       "   자치구  CCTV댓수  최근증가율     인구수    외국인    고령자  외국인비율(%)  고령자비율(%)\n",
       "0  종로구    1772   20.5  155106   9077  27605       5.9       1.8\n",
       "1   중구    2333   79.0  132259   9243  23980       7.0       1.5\n",
       "2  용산구    2383   78.6  240665  14287  38884       5.9       2.5\n",
       "3  성동구    3602   46.1  295767   6605  45591       2.2       2.9\n",
       "4  광진구    2588  112.3  355306  12825  50815       3.6       3.2"
      ]
     },
     "execution_count": 198,
     "metadata": {},
     "output_type": "execute_result"
    }
   ],
   "source": [
    "df_fin = pd.merge(cctv2, pop1[1:], how='outer', on='자치구')\n",
    "df_fin.head()"
   ]
  },
  {
   "cell_type": "code",
   "execution_count": 184,
   "metadata": {},
   "outputs": [],
   "source": [
    "df_fin.drop(columns=['구별'], inplace=True)"
   ]
  },
  {
   "cell_type": "code",
   "execution_count": 201,
   "metadata": {},
   "outputs": [],
   "source": [
    "df_fin.rename(columns={'자치구':'구별'}, inplace=True)"
   ]
  },
  {
   "cell_type": "code",
   "execution_count": null,
   "metadata": {},
   "outputs": [],
   "source": [
    "df_fin = df_fin.set_index('구별')"
   ]
  },
  {
   "cell_type": "code",
   "execution_count": 206,
   "metadata": {},
   "outputs": [
    {
     "data": {
      "text/html": [
       "<div>\n",
       "<style scoped>\n",
       "    .dataframe tbody tr th:only-of-type {\n",
       "        vertical-align: middle;\n",
       "    }\n",
       "\n",
       "    .dataframe tbody tr th {\n",
       "        vertical-align: top;\n",
       "    }\n",
       "\n",
       "    .dataframe thead th {\n",
       "        text-align: right;\n",
       "    }\n",
       "</style>\n",
       "<table border=\"1\" class=\"dataframe\">\n",
       "  <thead>\n",
       "    <tr style=\"text-align: right;\">\n",
       "      <th></th>\n",
       "      <th>CCTV댓수</th>\n",
       "      <th>최근증가율</th>\n",
       "      <th>인구수</th>\n",
       "      <th>외국인</th>\n",
       "      <th>고령자</th>\n",
       "      <th>외국인비율(%)</th>\n",
       "      <th>고령자비율(%)</th>\n",
       "    </tr>\n",
       "    <tr>\n",
       "      <th>구별</th>\n",
       "      <th></th>\n",
       "      <th></th>\n",
       "      <th></th>\n",
       "      <th></th>\n",
       "      <th></th>\n",
       "      <th></th>\n",
       "      <th></th>\n",
       "    </tr>\n",
       "  </thead>\n",
       "  <tbody>\n",
       "    <tr>\n",
       "      <th>종로구</th>\n",
       "      <td>1772</td>\n",
       "      <td>20.5</td>\n",
       "      <td>155106</td>\n",
       "      <td>9077</td>\n",
       "      <td>27605</td>\n",
       "      <td>5.9</td>\n",
       "      <td>1.8</td>\n",
       "    </tr>\n",
       "    <tr>\n",
       "      <th>중구</th>\n",
       "      <td>2333</td>\n",
       "      <td>79.0</td>\n",
       "      <td>132259</td>\n",
       "      <td>9243</td>\n",
       "      <td>23980</td>\n",
       "      <td>7.0</td>\n",
       "      <td>1.5</td>\n",
       "    </tr>\n",
       "    <tr>\n",
       "      <th>용산구</th>\n",
       "      <td>2383</td>\n",
       "      <td>78.6</td>\n",
       "      <td>240665</td>\n",
       "      <td>14287</td>\n",
       "      <td>38884</td>\n",
       "      <td>5.9</td>\n",
       "      <td>2.5</td>\n",
       "    </tr>\n",
       "    <tr>\n",
       "      <th>성동구</th>\n",
       "      <td>3602</td>\n",
       "      <td>46.1</td>\n",
       "      <td>295767</td>\n",
       "      <td>6605</td>\n",
       "      <td>45591</td>\n",
       "      <td>2.2</td>\n",
       "      <td>2.9</td>\n",
       "    </tr>\n",
       "    <tr>\n",
       "      <th>광진구</th>\n",
       "      <td>2588</td>\n",
       "      <td>112.3</td>\n",
       "      <td>355306</td>\n",
       "      <td>12825</td>\n",
       "      <td>50815</td>\n",
       "      <td>3.6</td>\n",
       "      <td>3.2</td>\n",
       "    </tr>\n",
       "  </tbody>\n",
       "</table>\n",
       "</div>"
      ],
      "text/plain": [
       "     CCTV댓수  최근증가율     인구수    외국인    고령자  외국인비율(%)  고령자비율(%)\n",
       "구별                                                          \n",
       "종로구    1772   20.5  155106   9077  27605       5.9       1.8\n",
       "중구     2333   79.0  132259   9243  23980       7.0       1.5\n",
       "용산구    2383   78.6  240665  14287  38884       5.9       2.5\n",
       "성동구    3602   46.1  295767   6605  45591       2.2       2.9\n",
       "광진구    2588  112.3  355306  12825  50815       3.6       3.2"
      ]
     },
     "execution_count": 206,
     "metadata": {},
     "output_type": "execute_result"
    }
   ],
   "source": [
    "df_fin.head()"
   ]
  }
 ],
 "metadata": {
  "interpreter": {
   "hash": "b3ba2566441a7c06988d0923437866b63cedc61552a5af99d1f4fb67d367b25f"
  },
  "kernelspec": {
   "display_name": "Python 3.8.8 64-bit ('base': conda)",
   "language": "python",
   "name": "python3"
  },
  "language_info": {
   "codemirror_mode": {
    "name": "ipython",
    "version": 3
   },
   "file_extension": ".py",
   "mimetype": "text/x-python",
   "name": "python",
   "nbconvert_exporter": "python",
   "pygments_lexer": "ipython3",
   "version": "3.8.8"
  },
  "orig_nbformat": 4
 },
 "nbformat": 4,
 "nbformat_minor": 2
}
